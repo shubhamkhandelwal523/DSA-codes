{
 "cells": [
  {
   "cell_type": "code",
   "execution_count": 1,
   "metadata": {},
   "outputs": [],
   "source": [
    "if 5 == 5:\n",
    "    pass    \n",
    "else:\n",
    "    print(\"not\")"
   ]
  },
  {
   "cell_type": "code",
   "execution_count": 12,
   "metadata": {},
   "outputs": [],
   "source": [
    "db = [5,9,1,3,2,6, 55 ,44 ,6687 ,32 ,44 ,99]"
   ]
  },
  {
   "cell_type": "code",
   "execution_count": 13,
   "metadata": {},
   "outputs": [
    {
     "data": {
      "text/plain": [
       "[0, 1, 2, 3, 4, 5, 6, 7, 8, 9, 10]"
      ]
     },
     "execution_count": 13,
     "metadata": {},
     "output_type": "execute_result"
    }
   ],
   "source": [
    "list(range(len(db) - 1))"
   ]
  },
  {
   "cell_type": "code",
   "execution_count": 31,
   "metadata": {},
   "outputs": [],
   "source": [
    "db = [1,2,3,6,4,5 ,7]"
   ]
  },
  {
   "cell_type": "code",
   "execution_count": 38,
   "metadata": {},
   "outputs": [],
   "source": [
    "def lw_bubble_sort(data):\n",
    "    \"\"\"\n",
    "    sorting using also: bubble sort\n",
    "    \"\"\"\n",
    "    isswap=False\n",
    "    for f in range(len(data) - 1):\n",
    "        print(\"first data:\" ,f)\n",
    "        for s in range(len(data) - 1 - f):\n",
    "            print(\"second data:\" ,s)\n",
    "            if data[s] > data[s+1]:\n",
    "                data[s], data[s+1] = data[s+1] ,data[s]\n",
    "                isswap=True\n",
    "                print(\"swap done...\")\n",
    "            if not isswap:\n",
    "                return \"already sorted\"\n",
    "        print(\"pass completed...\")\n",
    "        print(\"every pass result:\",data)\n",
    "    return data\n",
    "        "
   ]
  },
  {
   "cell_type": "code",
   "execution_count": 39,
   "metadata": {},
   "outputs": [
    {
     "name": "stdout",
     "output_type": "stream",
     "text": [
      "first data: 0\n",
      "second data: 0\n"
     ]
    },
    {
     "data": {
      "text/plain": [
       "'already sorted'"
      ]
     },
     "execution_count": 39,
     "metadata": {},
     "output_type": "execute_result"
    }
   ],
   "source": [
    "lw_bubble_sort(db)"
   ]
  },
  {
   "cell_type": "code",
   "execution_count": null,
   "metadata": {},
   "outputs": [],
   "source": []
  }
 ],
 "metadata": {
  "kernelspec": {
   "display_name": "Python 3",
   "language": "python",
   "name": "python3"
  },
  "language_info": {
   "codemirror_mode": {
    "name": "ipython",
    "version": 3
   },
   "file_extension": ".py",
   "mimetype": "text/x-python",
   "name": "python",
   "nbconvert_exporter": "python",
   "pygments_lexer": "ipython3",
   "version": "3.8.3"
  }
 },
 "nbformat": 4,
 "nbformat_minor": 4
}
