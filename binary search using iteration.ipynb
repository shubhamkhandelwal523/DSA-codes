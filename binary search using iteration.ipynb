{
 "cells": [
  {
   "cell_type": "code",
   "execution_count": 1,
   "metadata": {},
   "outputs": [],
   "source": [
    "x = 5"
   ]
  },
  {
   "cell_type": "code",
   "execution_count": 2,
   "metadata": {},
   "outputs": [],
   "source": [
    "y = 10"
   ]
  },
  {
   "cell_type": "code",
   "execution_count": 10,
   "metadata": {},
   "outputs": [],
   "source": [
    "z = x"
   ]
  },
  {
   "cell_type": "code",
   "execution_count": 5,
   "metadata": {},
   "outputs": [],
   "source": [
    "x = y"
   ]
  },
  {
   "cell_type": "code",
   "execution_count": 4,
   "metadata": {},
   "outputs": [
    {
     "data": {
      "text/plain": [
       "10"
      ]
     },
     "execution_count": 4,
     "metadata": {},
     "output_type": "execute_result"
    }
   ],
   "source": [
    "y"
   ]
  },
  {
   "cell_type": "code",
   "execution_count": 6,
   "metadata": {},
   "outputs": [
    {
     "data": {
      "text/plain": [
       "10"
      ]
     },
     "execution_count": 6,
     "metadata": {},
     "output_type": "execute_result"
    }
   ],
   "source": [
    "x"
   ]
  },
  {
   "cell_type": "code",
   "execution_count": 11,
   "metadata": {},
   "outputs": [],
   "source": [
    "x =5"
   ]
  },
  {
   "cell_type": "code",
   "execution_count": 12,
   "metadata": {},
   "outputs": [],
   "source": [
    "y = 10"
   ]
  },
  {
   "cell_type": "code",
   "execution_count": 13,
   "metadata": {},
   "outputs": [
    {
     "data": {
      "text/plain": [
       "(5, 10)"
      ]
     },
     "execution_count": 13,
     "metadata": {},
     "output_type": "execute_result"
    }
   ],
   "source": [
    "x,y"
   ]
  },
  {
   "cell_type": "code",
   "execution_count": 14,
   "metadata": {},
   "outputs": [],
   "source": [
    "x,y = y,x"
   ]
  },
  {
   "cell_type": "code",
   "execution_count": 15,
   "metadata": {},
   "outputs": [
    {
     "data": {
      "text/plain": [
       "(5, 10)"
      ]
     },
     "execution_count": 15,
     "metadata": {},
     "output_type": "execute_result"
    }
   ],
   "source": [
    "y,x"
   ]
  },
  {
   "cell_type": "code",
   "execution_count": 34,
   "metadata": {},
   "outputs": [],
   "source": [
    "db  = [1,2,3,4,5,6,5,64,6,46,4,64,6,4,6]\n",
    "db1  = [10,20,30,40,50,60,45,6,4,5,888,99,55,6]"
   ]
  },
  {
   "cell_type": "code",
   "execution_count": 35,
   "metadata": {},
   "outputs": [
    {
     "data": {
      "text/plain": [
       "[1, 2, 3, 4, 5, 6, 5, 64, 6, 46, 4, 64, 6, 4, 6]"
      ]
     },
     "execution_count": 35,
     "metadata": {},
     "output_type": "execute_result"
    }
   ],
   "source": [
    "db"
   ]
  },
  {
   "cell_type": "code",
   "execution_count": 37,
   "metadata": {},
   "outputs": [
    {
     "name": "stdout",
     "output_type": "stream",
     "text": [
      "10\n",
      "20\n",
      "30\n",
      "40\n",
      "50\n",
      "60\n",
      "45\n",
      "6\n",
      "4\n",
      "5\n",
      "888\n",
      "99\n",
      "55\n",
      "6\n",
      "20\n",
      "40\n",
      "60\n",
      "80\n",
      "100\n",
      "120\n",
      "90\n",
      "12\n",
      "8\n",
      "10\n",
      "1776\n",
      "198\n",
      "110\n",
      "12\n",
      "30\n",
      "60\n",
      "90\n",
      "120\n",
      "150\n",
      "180\n",
      "135\n",
      "18\n",
      "12\n",
      "15\n",
      "2664\n",
      "297\n",
      "165\n",
      "18\n",
      "40\n",
      "80\n",
      "120\n",
      "160\n",
      "200\n",
      "240\n",
      "180\n",
      "24\n",
      "16\n",
      "20\n",
      "3552\n",
      "396\n",
      "220\n",
      "24\n",
      "50\n",
      "100\n",
      "150\n",
      "200\n",
      "250\n",
      "300\n",
      "225\n",
      "30\n",
      "20\n",
      "25\n",
      "4440\n",
      "495\n",
      "275\n",
      "30\n",
      "60\n",
      "120\n",
      "180\n",
      "240\n",
      "300\n",
      "360\n",
      "270\n",
      "36\n",
      "24\n",
      "30\n",
      "5328\n",
      "594\n",
      "330\n",
      "36\n",
      "50\n",
      "100\n",
      "150\n",
      "200\n",
      "250\n",
      "300\n",
      "225\n",
      "30\n",
      "20\n",
      "25\n",
      "4440\n",
      "495\n",
      "275\n",
      "30\n",
      "640\n",
      "1280\n",
      "1920\n",
      "2560\n",
      "3200\n",
      "3840\n",
      "2880\n",
      "384\n",
      "256\n",
      "320\n",
      "56832\n",
      "6336\n",
      "3520\n",
      "384\n",
      "60\n",
      "120\n",
      "180\n",
      "240\n",
      "300\n",
      "360\n",
      "270\n",
      "36\n",
      "24\n",
      "30\n",
      "5328\n",
      "594\n",
      "330\n",
      "36\n",
      "460\n",
      "920\n",
      "1380\n",
      "1840\n",
      "2300\n",
      "2760\n",
      "2070\n",
      "276\n",
      "184\n",
      "230\n",
      "40848\n",
      "4554\n",
      "2530\n",
      "276\n",
      "40\n",
      "80\n",
      "120\n",
      "160\n",
      "200\n",
      "240\n",
      "180\n",
      "24\n",
      "16\n",
      "20\n",
      "3552\n",
      "396\n",
      "220\n",
      "24\n",
      "640\n",
      "1280\n",
      "1920\n",
      "2560\n",
      "3200\n",
      "3840\n",
      "2880\n",
      "384\n",
      "256\n",
      "320\n",
      "56832\n",
      "6336\n",
      "3520\n",
      "384\n",
      "60\n",
      "120\n",
      "180\n",
      "240\n",
      "300\n",
      "360\n",
      "270\n",
      "36\n",
      "24\n",
      "30\n",
      "5328\n",
      "594\n",
      "330\n",
      "36\n",
      "40\n",
      "80\n",
      "120\n",
      "160\n",
      "200\n",
      "240\n",
      "180\n",
      "24\n",
      "16\n",
      "20\n",
      "3552\n",
      "396\n",
      "220\n",
      "24\n",
      "60\n",
      "120\n",
      "180\n",
      "240\n",
      "300\n",
      "360\n",
      "270\n",
      "36\n",
      "24\n",
      "30\n",
      "5328\n",
      "594\n",
      "330\n",
      "36\n"
     ]
    }
   ],
   "source": [
    "#nested loop\n",
    "# 5 * 4 = 20\n",
    "#Time Complexity #n * n = n^2\n",
    "#for i in db:\n",
    "#    for j in db1:\n",
    "#        print(i*j)\n",
    "    "
   ]
  },
  {
   "cell_type": "code",
   "execution_count": null,
   "metadata": {},
   "outputs": [],
   "source": [
    "def lwbs(data):\n",
    "    for i in data:\n",
    "        \n",
    "        \n",
    "    "
   ]
  }
 ],
 "metadata": {
  "kernelspec": {
   "display_name": "Python 3",
   "language": "python",
   "name": "python3"
  },
  "language_info": {
   "codemirror_mode": {
    "name": "ipython",
    "version": 3
   },
   "file_extension": ".py",
   "mimetype": "text/x-python",
   "name": "python",
   "nbconvert_exporter": "python",
   "pygments_lexer": "ipython3",
   "version": "3.8.3"
  }
 },
 "nbformat": 4,
 "nbformat_minor": 4
}
